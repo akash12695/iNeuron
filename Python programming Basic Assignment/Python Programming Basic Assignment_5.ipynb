{
 "cells": [
  {
   "cell_type": "markdown",
   "metadata": {},
   "source": [
    "# Q1. Write a Python Program to Find LCM?"
   ]
  },
  {
   "cell_type": "code",
   "execution_count": 1,
   "metadata": {},
   "outputs": [
    {
     "name": "stdout",
     "output_type": "stream",
     "text": [
      "Enter first number: 5\n",
      "Enter second number: 6\n",
      "The L.C.M. of 5 and 6 is 30\n"
     ]
    }
   ],
   "source": [
    "try:\n",
    "    def lcm(x, y):  \n",
    "        if x > y:  \n",
    "            greater = x  \n",
    "        else:  \n",
    "            greater = y  \n",
    "        while(True):  \n",
    "            if((greater % x == 0) and (greater % y == 0)):  \n",
    "                lcm = greater  \n",
    "                break  \n",
    "            greater += 1  \n",
    "        return lcm  \n",
    "    num1 = int(input(\"Enter first number: \"))  \n",
    "    num2 = int(input(\"Enter second number: \"))  \n",
    "    print(\"The L.C.M. of\", num1,\"and\", num2,\"is\", lcm(num1, num2))\n",
    "except Exception as e:\n",
    "    print (e)"
   ]
  },
  {
   "cell_type": "markdown",
   "metadata": {},
   "source": [
    "# Q2. Write a Python Program to Find HCF?"
   ]
  },
  {
   "cell_type": "code",
   "execution_count": 2,
   "metadata": {},
   "outputs": [
    {
     "name": "stdout",
     "output_type": "stream",
     "text": [
      "Enter first number: 7\n",
      "Enter second number: 14\n",
      "The H.C.F. of 7 and 14 is 7\n"
     ]
    }
   ],
   "source": [
    "try:\n",
    "    def hcf(x, y):\n",
    "        if x > y:  \n",
    "               smaller = y  \n",
    "        else:  \n",
    "               smaller = x  \n",
    "        for i in range(1,smaller + 1):  \n",
    "            if((x % i == 0) and (y % i == 0)):  \n",
    "                hcf = i  \n",
    "        return hcf  \n",
    "    num1 = int(input(\"Enter first number: \"))  \n",
    "    num2 = int(input(\"Enter second number: \"))  \n",
    "    print(\"The H.C.F. of\", num1,\"and\", num2,\"is\", hcf(num1, num2)) \n",
    "except Exception as e:\n",
    "    print (e)"
   ]
  },
  {
   "cell_type": "markdown",
   "metadata": {},
   "source": [
    "# Q3. Write a Python Program to Convert Decimal to Binary, Octal and Hexadecimal?"
   ]
  },
  {
   "cell_type": "code",
   "execution_count": 3,
   "metadata": {},
   "outputs": [
    {
     "name": "stdout",
     "output_type": "stream",
     "text": [
      "Enter the Decimal Value:- 90\n",
      "Its binary Value is:- 0b1011010\n",
      "Its Octal Value is:- 0o132\n",
      "Its Hexadecimal Value is:- 0x5a\n"
     ]
    }
   ],
   "source": [
    "try:\n",
    "    val=int(input(\"Enter the Decimal Value:- \"))\n",
    "    print(\"Its binary Value is:-\",bin(val))\n",
    "    print(\"Its Octal Value is:-\",oct(val))\n",
    "    print(\"Its Hexadecimal Value is:-\",hex(val))\n",
    "except Exception as e:\n",
    "    print (e)"
   ]
  },
  {
   "cell_type": "markdown",
   "metadata": {},
   "source": [
    "# Q4. Write a Python Program To Find ASCII value of a character? "
   ]
  },
  {
   "cell_type": "code",
   "execution_count": 4,
   "metadata": {},
   "outputs": [
    {
     "name": "stdout",
     "output_type": "stream",
     "text": [
      "Enter the character:-A\n",
      "The ASCII value of a given character is:-  65\n"
     ]
    }
   ],
   "source": [
    "try:\n",
    "    char=input(\"Enter the character:-\")\n",
    "    print(\"The ASCII value of a given character is:- \",ord(char))\n",
    "except Exception as e:\n",
    "    print (e)"
   ]
  },
  {
   "cell_type": "markdown",
   "metadata": {},
   "source": [
    "# Q5. Write a Python Program to Make a Simple Calculator with 4 basic mathematical operations?"
   ]
  },
  {
   "cell_type": "code",
   "execution_count": 6,
   "metadata": {},
   "outputs": [
    {
     "name": "stdout",
     "output_type": "stream",
     "text": [
      "1. Add\n",
      "2. Sub\n",
      "3. Mul\n",
      "4. Div\n",
      "5. Exit\n",
      "Enter Option:-1\n",
      "Enter the First value:-7\n",
      "Enter the Second value:-9\n",
      "Sum = 16\n"
     ]
    }
   ],
   "source": [
    "def add(x,y):\n",
    "    return(x+y)\n",
    "def sub(x,y):\n",
    "    return(x-y)\n",
    "def mul(x,y):\n",
    "    return(x*y)\n",
    "def div(x,y):\n",
    "    return(x/y)\n",
    "while True:\n",
    "        print(\"1. Add\")\n",
    "        print(\"2. Sub\")\n",
    "        print(\"3. Mul\")\n",
    "        print(\"4. Div\")\n",
    "        print(\"5. Exit\")\n",
    "        option=int(input(\"Enter Option:-\"))\n",
    "        a=int(input(\"Enter the First value:-\"))\n",
    "        b=int(input(\"Enter the Second value:-\"))\n",
    "        if option==1:\n",
    "            c=add(a,b)\n",
    "            print(\"Sum =\",c)\n",
    "        elif option==2:\n",
    "            c=sub(a,b)\n",
    "            print(\"Difference=\",c)\n",
    "        elif option==3:\n",
    "            c=mul(a,b)\n",
    "            print(\"Multiplication=\",c)\n",
    "        elif option==4:\n",
    "            c=div(a,b)\n",
    "            print(\"Division=\",c)\n",
    "        else:\n",
    "            print(\"Terminating\")\n",
    "        break;"
   ]
  },
  {
   "cell_type": "code",
   "execution_count": null,
   "metadata": {},
   "outputs": [],
   "source": []
  },
  {
   "cell_type": "code",
   "execution_count": null,
   "metadata": {},
   "outputs": [],
   "source": []
  }
 ],
 "metadata": {
  "kernelspec": {
   "display_name": "Python 3",
   "language": "python",
   "name": "python3"
  },
  "language_info": {
   "codemirror_mode": {
    "name": "ipython",
    "version": 3
   },
   "file_extension": ".py",
   "mimetype": "text/x-python",
   "name": "python",
   "nbconvert_exporter": "python",
   "pygments_lexer": "ipython3",
   "version": "3.7.6"
  },
  "toc": {
   "base_numbering": 1,
   "nav_menu": {},
   "number_sections": true,
   "sideBar": true,
   "skip_h1_title": false,
   "title_cell": "Table of Contents",
   "title_sidebar": "Contents",
   "toc_cell": false,
   "toc_position": {},
   "toc_section_display": true,
   "toc_window_display": false
  }
 },
 "nbformat": 4,
 "nbformat_minor": 4
}
