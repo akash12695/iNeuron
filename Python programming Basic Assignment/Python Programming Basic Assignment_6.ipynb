{
 "cells": [
  {
   "cell_type": "markdown",
   "metadata": {},
   "source": [
    "# Q1. Write a Python Program to Display Fibonacci Sequence Using Recursion?"
   ]
  },
  {
   "cell_type": "code",
   "execution_count": 1,
   "metadata": {},
   "outputs": [
    {
     "name": "stdout",
     "output_type": "stream",
     "text": [
      "Enter the number of terms of which you require the Fibonacci Sequence:- 5\n",
      "0\n",
      "1\n",
      "1\n",
      "2\n",
      "3\n"
     ]
    }
   ],
   "source": [
    "try:\n",
    "    def r_fibonacci(n):\n",
    "            if n<=1:\n",
    "                return n\n",
    "            else:\n",
    "                return(r_fibonacci(n-1)+r_fibonacci(n-2))  \n",
    "    n=int(input(\"Enter the number of terms of which you require the Fibonacci Sequence:- \"))\n",
    "    for i in range(0,n):\n",
    "        print(r_fibonacci(i))\n",
    "except Exception as e:\n",
    "    print(e)\n"
   ]
  },
  {
   "cell_type": "markdown",
   "metadata": {},
   "source": [
    "# Q2. Write a Python Program to Find Factorial of Number Using Recursion?"
   ]
  },
  {
   "cell_type": "code",
   "execution_count": 2,
   "metadata": {},
   "outputs": [
    {
     "name": "stdout",
     "output_type": "stream",
     "text": [
      "Enter the number of terms of which you require the Fibonacci Sequence:- 5\n",
      "The Factorial of 5 is 120\n"
     ]
    }
   ],
   "source": [
    "try:\n",
    "    def rec_fibo(n):\n",
    "        if n<=1:\n",
    "            return n\n",
    "        else:\n",
    "            return n*rec_fibo(n-1)\n",
    "    num=int(input(\"Enter the number of terms of which you require the Fibonacci Sequence:- \"))\n",
    "    print(\"The Factorial of\",num, \"is\",rec_fibo(num))\n",
    "\n",
    "except Exception as e:\n",
    "    print(e)"
   ]
  },
  {
   "cell_type": "markdown",
   "metadata": {},
   "source": [
    "# Q3. Write a Python Program to calculate your Body Mass Index?"
   ]
  },
  {
   "cell_type": "code",
   "execution_count": 3,
   "metadata": {},
   "outputs": [
    {
     "name": "stdout",
     "output_type": "stream",
     "text": [
      "Enter the height of the person in meter :- 1.8\n",
      "Enter the weight of the person in KG :- 86\n",
      "BMI of the person is:-  26.54320987654321\n"
     ]
    }
   ],
   "source": [
    "height = float(input(\"Enter the height of the person in meter :- \"))\n",
    "weight = float(input(\"Enter the weight of the person in KG :- \"))\n",
    "bmi=weight/(height**2)\n",
    "print(\"BMI of the person is:- \", bmi)"
   ]
  },
  {
   "cell_type": "markdown",
   "metadata": {},
   "source": [
    "# Q4. Write a Python Program to calculate the natural logarithm of any number?"
   ]
  },
  {
   "cell_type": "code",
   "execution_count": 4,
   "metadata": {},
   "outputs": [
    {
     "name": "stdout",
     "output_type": "stream",
     "text": [
      "Natural logarithm of 15 is : 2.70805020110221\n"
     ]
    }
   ],
   "source": [
    "import math\n",
    "# Printing the log base e of 15\n",
    "print (\"Natural logarithm of 15 is : \", end=\"\")\n",
    "print (math.log(15))"
   ]
  },
  {
   "cell_type": "markdown",
   "metadata": {},
   "source": [
    "# Q5. Write a Python Program for cube sum of first n natural numbers?"
   ]
  },
  {
   "cell_type": "code",
   "execution_count": 5,
   "metadata": {},
   "outputs": [
    {
     "name": "stdout",
     "output_type": "stream",
     "text": [
      "Enter the number:- 3\n",
      "36\n"
     ]
    }
   ],
   "source": [
    "# Returns the sum of series \n",
    "def sumOfNumbers(n):\n",
    "    sum = 0\n",
    "    for i in range(1, n+1):\n",
    "        sum +=i*i*i\n",
    "          \n",
    "    return sum\n",
    "\n",
    "n = int(input(\"Enter the number:- \"))\n",
    "print(sumOfNumbers(n))"
   ]
  }
 ],
 "metadata": {
  "kernelspec": {
   "display_name": "Python 3",
   "language": "python",
   "name": "python3"
  },
  "language_info": {
   "codemirror_mode": {
    "name": "ipython",
    "version": 3
   },
   "file_extension": ".py",
   "mimetype": "text/x-python",
   "name": "python",
   "nbconvert_exporter": "python",
   "pygments_lexer": "ipython3",
   "version": "3.7.6"
  },
  "toc": {
   "base_numbering": 1,
   "nav_menu": {},
   "number_sections": true,
   "sideBar": true,
   "skip_h1_title": false,
   "title_cell": "Table of Contents",
   "title_sidebar": "Contents",
   "toc_cell": false,
   "toc_position": {},
   "toc_section_display": true,
   "toc_window_display": false
  }
 },
 "nbformat": 4,
 "nbformat_minor": 4
}
