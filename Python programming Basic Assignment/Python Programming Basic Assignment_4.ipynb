{
 "cells": [
  {
   "cell_type": "markdown",
   "metadata": {},
   "source": [
    "# Q1. Write a Python Program to Find the Factorial of a Number?"
   ]
  },
  {
   "cell_type": "code",
   "execution_count": 1,
   "metadata": {},
   "outputs": [
    {
     "name": "stdout",
     "output_type": "stream",
     "text": [
      "Enter the Number:-\n",
      "5\n",
      "Factorial of the given Number is:-  120\n"
     ]
    }
   ],
   "source": [
    "def facto(n):\n",
    "    if(n==0 or n==1):\n",
    "        return 1\n",
    "    else:\n",
    "        return(n*facto(n-1))   \n",
    "print(\"Enter the Number:-\")\n",
    "n=int(input())\n",
    "ans=facto(n);\n",
    "print(\"Factorial of the given Number is:- \",ans)"
   ]
  },
  {
   "cell_type": "markdown",
   "metadata": {},
   "source": [
    "# Q2. Write a Python Program to Display the multiplication Table?"
   ]
  },
  {
   "cell_type": "code",
   "execution_count": 2,
   "metadata": {},
   "outputs": [
    {
     "name": "stdout",
     "output_type": "stream",
     "text": [
      "Enter the Number:- \n",
      "5\n",
      "5 X 1 = 5\n",
      "5 X 2 = 10\n",
      "5 X 3 = 15\n",
      "5 X 4 = 20\n",
      "5 X 5 = 25\n",
      "5 X 6 = 30\n",
      "5 X 7 = 35\n",
      "5 X 8 = 40\n",
      "5 X 9 = 45\n",
      "5 X 10 = 50\n"
     ]
    }
   ],
   "source": [
    "print(\"Enter the Number:- \")\n",
    "n=int(input())\n",
    "for i in range(1,11):\n",
    "    print(\"%d X %d = %d\" %(n,i,n*i))"
   ]
  },
  {
   "cell_type": "markdown",
   "metadata": {},
   "source": [
    "# Q3. Write a Python Program to Print the Fibonacci sequence?"
   ]
  },
  {
   "cell_type": "code",
   "execution_count": 3,
   "metadata": {},
   "outputs": [
    {
     "name": "stdout",
     "output_type": "stream",
     "text": [
      "Enter the Number: 5\n",
      "0\n",
      "1\n",
      "1\n",
      "2\n",
      "3\n"
     ]
    }
   ],
   "source": [
    "def Fibonacci(n):\n",
    "    a=0\n",
    "    b=1    \n",
    "    if n<0:\n",
    "        print(\"Incorrect Input\")\n",
    "    elif n==0:\n",
    "        return a\n",
    "    elif n==1 or n==2:\n",
    "        return b\n",
    "    else:\n",
    "        print (a)\n",
    "        print(b)\n",
    "        for i in range(2,n):\n",
    "            c=a+b\n",
    "            a=b\n",
    "            b=c\n",
    "            print(c)\n",
    "\n",
    "n=int(input(\"Enter the Number: \"))\n",
    "Fibonacci(n)"
   ]
  },
  {
   "cell_type": "markdown",
   "metadata": {},
   "source": [
    "# Q4. Write a Python Program to Check Armstrong Number?"
   ]
  },
  {
   "cell_type": "code",
   "execution_count": 4,
   "metadata": {},
   "outputs": [
    {
     "name": "stdout",
     "output_type": "stream",
     "text": [
      "ENTER NUMBER\n",
      "153\n",
      "NUMBER IS ARMSTRONG\n"
     ]
    }
   ],
   "source": [
    "print(\"ENTER NUMBER\")\n",
    "n = int(input())\n",
    "t =n\n",
    "sum = 0\n",
    "while (n!=0):\n",
    "    d = n%10;\n",
    "    sum = sum + d**3\n",
    "    n = n//10\n",
    "if (sum == t):\n",
    "        print(\"NUMBER IS ARMSTRONG\")\n",
    "else:\n",
    "        print(\"NUMBER IS NOT ARMSTRONG\")"
   ]
  },
  {
   "cell_type": "markdown",
   "metadata": {},
   "source": [
    "# Q5. Write a Python Program to Find Armstrong Number in an Interval?"
   ]
  },
  {
   "cell_type": "code",
   "execution_count": 5,
   "metadata": {},
   "outputs": [
    {
     "name": "stdout",
     "output_type": "stream",
     "text": [
      "Enter the Lower number: 100\n",
      "Enter the Upper number: 2000\n",
      "153\n",
      "370\n",
      "371\n",
      "407\n",
      "1634\n"
     ]
    }
   ],
   "source": [
    "lower= int(input(\"Enter the Lower number: \"))\n",
    "upper= int(input(\"Enter the Upper number: \"))\n",
    "\n",
    "for num in range(lower, upper + 1):\n",
    "    # order of number\n",
    "    order = len(str(num))\n",
    "     # initialize sum\n",
    "    sum = 0\n",
    "    temp = num\n",
    "    while temp > 0:\n",
    "            digit = temp % 10\n",
    "            sum += digit ** order\n",
    "            temp //= 10\n",
    "    if num == sum:\n",
    "        print(num)"
   ]
  },
  {
   "cell_type": "markdown",
   "metadata": {},
   "source": [
    "# Q6. Write a Python Program to Find the Sum of Natural Numbers?"
   ]
  },
  {
   "cell_type": "code",
   "execution_count": 6,
   "metadata": {},
   "outputs": [
    {
     "name": "stdout",
     "output_type": "stream",
     "text": [
      "Enter the Number: 5\n",
      "The sum is:  15\n"
     ]
    }
   ],
   "source": [
    "num=int(input(\"Enter the Number: \"))\n",
    "if num<0:\n",
    "    print(\"Enter a positive number\")\n",
    "else:\n",
    "    sum=0\n",
    "    while(num>0):\n",
    "        sum=sum+num\n",
    "        num=num-1\n",
    "        \n",
    "    print(\"The sum is: \",sum)"
   ]
  }
 ],
 "metadata": {
  "kernelspec": {
   "display_name": "Python 3",
   "language": "python",
   "name": "python3"
  },
  "language_info": {
   "codemirror_mode": {
    "name": "ipython",
    "version": 3
   },
   "file_extension": ".py",
   "mimetype": "text/x-python",
   "name": "python",
   "nbconvert_exporter": "python",
   "pygments_lexer": "ipython3",
   "version": "3.7.6"
  },
  "toc": {
   "base_numbering": 1,
   "nav_menu": {},
   "number_sections": true,
   "sideBar": true,
   "skip_h1_title": false,
   "title_cell": "Table of Contents",
   "title_sidebar": "Contents",
   "toc_cell": false,
   "toc_position": {},
   "toc_section_display": true,
   "toc_window_display": false
  }
 },
 "nbformat": 4,
 "nbformat_minor": 4
}
