{
 "cells": [
  {
   "cell_type": "markdown",
   "metadata": {},
   "source": [
    "# In the below elements which of them are values or an expression? eg:- values can be integer or string and expressions will be mathematical operators."
   ]
  },
  {
   "cell_type": "markdown",
   "metadata": {},
   "source": [
    "'*' --> Expression\n",
    "\n",
    "'hello' --> Value\n",
    "\n",
    "-87.8 --> Value\n",
    "\n",
    "/ --> Expression\n",
    "\n",
    "'+' --> Expression\n",
    "\n",
    "6 -->Value"
   ]
  },
  {
   "cell_type": "markdown",
   "metadata": {},
   "source": [
    "# What is the difference between string and variable?"
   ]
  },
  {
   "cell_type": "markdown",
   "metadata": {},
   "source": [
    "String :- 1. String is a type of information we would store in a Variable.\n",
    "          2. A String is usually words, enclosed with \"\" or ''\n",
    "          3. String cannot hold a variable.\n",
    "          4. String is a type of the variable.\n",
    "\n",
    "Variable:- 1. Variable is a store of information. \n",
    "           2. Varibale is use to represent any value\n",
    "           3. A variable can hold a string\n",
    "           4. Variables can be of several types like integer, floating point, string, boolean."
   ]
  },
  {
   "cell_type": "markdown",
   "metadata": {},
   "source": [
    "# Describe three different data types."
   ]
  },
  {
   "cell_type": "markdown",
   "metadata": {},
   "source": [
    "Three different datatypes in Python are as follows:\n",
    "\n",
    "List :- 1. The list is a most versatile datatype available in Python which can be written as a list of comma separated values              (items) between square brackets.\n",
    "        2. Important thing about a list is that items in a list need not be of the same type.\n",
    "        3. It is similar to an array ,but unlike an array, it can store values of different datatypes.\n",
    "        4. List are mutable\n",
    "       \n",
    "        Eg:- list1 = ['English','Maths','physics', 'chemistry', 1000, 2000,234.76]\n",
    "\n",
    "Tuple:- 1. Tuple is similar to a list which can be written as a list of comma separated values (items) between round brackets. \n",
    "        2. Tuples are immutable(we cannot change the elements of a tuple once it is assigned).\n",
    "         \n",
    "        Eg:- tup1 = ('English','Maths','physics', 'chemistry', 1000, 2000,234.76)\n",
    "        \n",
    "Dictionary:- 1. Dictionary in Python is an unordered collection of data values, used to store data values like a map.\n",
    "             2. Dictionary holds key:valuepair. Key value is provided in the dictionary to make it more optimized. \n",
    "             3. Each key-value pair in a Dictionary is separated by a colon :, whereas each key is separated by a ‘comma’.\n",
    "             4. Dictionary is written in the curly brackets [{}]\n",
    "             \n",
    "             Eg:- d = { \"1\" : \"Dhawan\",\"2\" : \"Rohit\",\"3\" : \"Virat\",\"4\" : \"Dhoni\",\"5\" : \"Rayudu\",\"6\" : \"Hardik\",\"7\" :\"Bhuvi\",\n",
    "             \"8\" : \"Shami\",\"9\" : \"Bumrah\",\"10\" : \"Jadeja\",\"11\" : \"Umesh\"}"
   ]
  },
  {
   "cell_type": "markdown",
   "metadata": {},
   "source": [
    "# What is an expression made up of? What do all expressions do?"
   ]
  },
  {
   "cell_type": "markdown",
   "metadata": {},
   "source": [
    "1. An expression is made up of values, variables, operators, and calls to functions\n",
    "2. An expression may consist of one or more operands, and zero or more operators to produce a Single value."
   ]
  },
  {
   "cell_type": "markdown",
   "metadata": {},
   "source": [
    "# This assignment statements, like spam = 10. What is the difference between an expression and a statement?"
   ]
  },
  {
   "cell_type": "markdown",
   "metadata": {},
   "source": [
    "Statement:-\n",
    "1. The Statement is like a sentence in Python which is made up of expressions.\n",
    "2. A statement is an instruction that the Python interpreter can execute. \n",
    "3. Example:- \n",
    "   spam = 10 is an assignment statement.\n",
    "4. if statement, for statement, while statement, etc are the example of statements.\n",
    "\n",
    "Expression:-\n",
    "1. An expression is a combination of values, variables, operators, and calls to functions\n",
    "2. Example of an expression is 2 + 3 ."
   ]
  },
  {
   "cell_type": "markdown",
   "metadata": {},
   "source": [
    "# After running the following code, what does the variable bacon contain?"
   ]
  },
  {
   "cell_type": "code",
   "execution_count": 6,
   "metadata": {},
   "outputs": [
    {
     "data": {
      "text/plain": [
       "22"
      ]
     },
     "execution_count": 6,
     "metadata": {},
     "output_type": "execute_result"
    }
   ],
   "source": [
    "bacon = 22\n",
    "bacon + 1\n",
    "bacon"
   ]
  },
  {
   "cell_type": "markdown",
   "metadata": {},
   "source": [
    "# What should the values of the following two terms be?\n"
   ]
  },
  {
   "cell_type": "code",
   "execution_count": 7,
   "metadata": {},
   "outputs": [
    {
     "data": {
      "text/plain": [
       "'spamspamspam'"
      ]
     },
     "execution_count": 7,
     "metadata": {},
     "output_type": "execute_result"
    }
   ],
   "source": [
    "'spam' +'spamspam'"
   ]
  },
  {
   "cell_type": "code",
   "execution_count": 8,
   "metadata": {},
   "outputs": [
    {
     "data": {
      "text/plain": [
       "'spamspamspam'"
      ]
     },
     "execution_count": 8,
     "metadata": {},
     "output_type": "execute_result"
    }
   ],
   "source": [
    "'spam' * 3"
   ]
  },
  {
   "cell_type": "markdown",
   "metadata": {},
   "source": [
    "# Why is eggs a valid variable name while 100 is invalid?"
   ]
  },
  {
   "cell_type": "markdown",
   "metadata": {},
   "source": [
    "1.  A variable name must start with a letter or the underscore character (hence eggs is a valid variable name)\n",
    "2.  A variable name cannot start with a number.(hence 100 is invalid variable name)"
   ]
  },
  {
   "cell_type": "markdown",
   "metadata": {},
   "source": [
    "# What three functions can be used to get the integer, floating-point number, or string version of a value?"
   ]
  },
  {
   "cell_type": "markdown",
   "metadata": {},
   "source": [
    "The int(), float(), and str() functions will evaluate to the integer, floating-point number, and string versions of the value passed to them respectively."
   ]
  },
  {
   "cell_type": "markdown",
   "metadata": {},
   "source": [
    "# Why does this expression cause an error? How can you fix it?\n",
    "&#39;I have eaten &#39; + 99 + &#39; burritos.&#39;"
   ]
  },
  {
   "cell_type": "markdown",
   "metadata": {},
   "source": [
    "1. The expression causes an error because 99 is an integer, and only strings can be concatenated to other strings with the + operator.\n",
    "2. The correct way is 'I have eaten ' + str(99) + ' burritos.'"
   ]
  },
  {
   "cell_type": "code",
   "execution_count": 9,
   "metadata": {},
   "outputs": [
    {
     "data": {
      "text/plain": [
       "'I have eaten 99 burritos.'"
      ]
     },
     "execution_count": 9,
     "metadata": {},
     "output_type": "execute_result"
    }
   ],
   "source": [
    "'I have eaten ' + str(99) + ' burritos.'"
   ]
  },
  {
   "cell_type": "code",
   "execution_count": null,
   "metadata": {},
   "outputs": [],
   "source": []
  }
 ],
 "metadata": {
  "kernelspec": {
   "display_name": "Python 3",
   "language": "python",
   "name": "python3"
  },
  "language_info": {
   "codemirror_mode": {
    "name": "ipython",
    "version": 3
   },
   "file_extension": ".py",
   "mimetype": "text/x-python",
   "name": "python",
   "nbconvert_exporter": "python",
   "pygments_lexer": "ipython3",
   "version": "3.7.6"
  },
  "toc": {
   "base_numbering": 1,
   "nav_menu": {},
   "number_sections": true,
   "sideBar": true,
   "skip_h1_title": false,
   "title_cell": "Table of Contents",
   "title_sidebar": "Contents",
   "toc_cell": false,
   "toc_position": {},
   "toc_section_display": true,
   "toc_window_display": false
  }
 },
 "nbformat": 4,
 "nbformat_minor": 4
}
