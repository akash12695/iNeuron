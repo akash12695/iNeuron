{
 "cells": [
  {
   "cell_type": "markdown",
   "metadata": {},
   "source": [
    "# Q1. What is the purpose of Python's OOP?"
   ]
  },
  {
   "cell_type": "markdown",
   "metadata": {},
   "source": [
    "Purpose of Python's OOPS offers the following advantage:\n",
    "1. Provides a clear program structure and a clean code.\n",
    "2. Facilitates easy maintenance and modification of existing code.\n",
    "3. Since the class is sharable, the code can be reused"
   ]
  },
  {
   "cell_type": "markdown",
   "metadata": {},
   "source": [
    "# Q2. Where does an inheritance search look for an attribute?"
   ]
  },
  {
   "cell_type": "markdown",
   "metadata": {},
   "source": [
    "Inheritance search is simply a search of the tree from bottom to top looking for the lowest occurrence of an attribute name"
   ]
  },
  {
   "cell_type": "markdown",
   "metadata": {},
   "source": [
    "# Q3. How do you distinguish between a class object and an instance object?"
   ]
  },
  {
   "cell_type": "markdown",
   "metadata": {},
   "source": [
    "1. Class is a specification , blueprint for an Object\n",
    "2. Object is a physical presence of the class in memory.\n",
    "3. Instance is an unique copy of the object (same structure, different data)"
   ]
  },
  {
   "cell_type": "markdown",
   "metadata": {},
   "source": [
    "# Q4. What makes the first argument in a class’s method function special?"
   ]
  },
  {
   "cell_type": "markdown",
   "metadata": {},
   "source": [
    "1. The first argument of every class method, including __init__ , is always a reference to the current instance of the class. \n",
    "2. By convention, this argument is always named \"self\"."
   ]
  },
  {
   "cell_type": "markdown",
   "metadata": {},
   "source": [
    "# Q5. What is the purpose of the _init_ method?"
   ]
  },
  {
   "cell_type": "markdown",
   "metadata": {},
   "source": [
    "1. \"__init__\" is a reserved method in python classes.\n",
    "2. It is called as a constructor in object oriented terminology.\n",
    "3. This method is called when an object is created from a class and it allows the class to initialize the attributes of the class"
   ]
  },
  {
   "cell_type": "markdown",
   "metadata": {},
   "source": [
    "# Q6. What is the process for creating a class instance?"
   ]
  },
  {
   "cell_type": "markdown",
   "metadata": {},
   "source": [
    "To create instances of a class, we need to call the class using class name and pass in whatever arguments its \"__init__\" method accepts"
   ]
  },
  {
   "cell_type": "markdown",
   "metadata": {},
   "source": [
    "# Q7. What is the process for creating a class?"
   ]
  },
  {
   "cell_type": "markdown",
   "metadata": {},
   "source": [
    "1. Classes are created by keyword class.\n",
    "2. Class Definition Syntax:\n",
    "\n",
    "class ClassName:\n",
    "\n",
    "    statement 1\n",
    "    -\n",
    "    -\n",
    "    -\n",
    "    Statement N"
   ]
  },
  {
   "cell_type": "markdown",
   "metadata": {},
   "source": [
    "# Q8. How would you define the superclasses of a class?"
   ]
  },
  {
   "attachments": {
    "image.png": {
     "image/png": "[encoded data removed]"
    }
   },
   "cell_type": "markdown",
   "metadata": {},
   "source": [
    "1. Classes can be derived from other classes. \n",
    "2. A superclass is the class from which many subclasses can be created.\n",
    "3. The subclasses inherit the characteristics of a superclass. \n",
    "4. The superclass is also known as the parent class or base class.\n",
    "\n",
    "![image.png](attachment:image.png)\n",
    "\n",
    "Rectangle, Triangle and Circle are all subclasses of the superclass Shape. \n"
   ]
  },
  {
   "cell_type": "markdown",
   "metadata": {},
   "source": []
  }
 ],
 "metadata": {
  "kernelspec": {
   "display_name": "Python 2",
   "language": "python",
   "name": "python2"
  },
  "language_info": {
   "codemirror_mode": {
    "name": "ipython",
    "version": 2
   },
   "file_extension": ".py",
   "mimetype": "text/x-python",
   "name": "python",
   "nbconvert_exporter": "python",
   "pygments_lexer": "ipython2",
   "version": "2.7.16"
  }
 },
 "nbformat": 4,
 "nbformat_minor": 2
}
